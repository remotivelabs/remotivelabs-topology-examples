{
 "cells": [
  {
   "cell_type": "markdown",
   "id": "562cdf95-5c7d-41c4-a297-ad26325a10e2",
   "metadata": {},
   "source": [
    "## Prerequisits"
   ]
  },
  {
   "attachments": {},
   "cell_type": "markdown",
   "id": "bd96e930-2850-4080-af91-161a438229e4",
   "metadata": {},
   "source": [
    "The notebook requires.\n",
    "- ECU simulation framework wheel.\n",
    "- _RemotiveBroker_ accessible with a with interface name `vcan0` (can be implemented using UDP)\n",
    "\n",
    "URL pointing to the broker:"
   ]
  },
  {
   "cell_type": "code",
   "execution_count": null,
   "id": "b6a76aea-48b7-40d7-abd7-7ec3c99f4bde",
   "metadata": {},
   "outputs": [],
   "source": [
    "import os\n",
    "\n",
    "url = os.environ[\"REMOTIVE_BROKER_URL\"] if \"REMOTIVE_BROKER_URL\" in os.environ else \"http://remotive-broker:50051\""
   ]
  },
  {
   "cell_type": "markdown",
   "id": "5291628b-e702-4ac7-857a-410aa65ae269",
   "metadata": {},
   "source": [
    "## Presentation"
   ]
  },
  {
   "cell_type": "markdown",
   "id": "70a33677-3846-46b4-98b3-0c85a8c304a4",
   "metadata": {},
   "source": [
    "### Import python libraries"
   ]
  },
  {
   "cell_type": "code",
   "execution_count": null,
   "id": "62873344-5786-443c-90be-a4635ff5cd12",
   "metadata": {},
   "outputs": [],
   "source": [
    "import asyncio\n",
    "\n",
    "from remotivelabs.broker import BrokerClient, Frame, RestbusFrameConfig, RestbusSignalConfig, WriteSignal\n",
    "from remotivelabs.topology.behavioral_model import BehavioralModel\n",
    "from remotivelabs.topology.namespaces import filters\n",
    "from remotivelabs.topology.namespaces.can import CanNamespace, RestbusConfig"
   ]
  },
  {
   "cell_type": "markdown",
   "id": "2f0e2f84-1be5-4abe-a173-b1215fb40738",
   "metadata": {},
   "source": [
    "### Read data"
   ]
  },
  {
   "cell_type": "markdown",
   "id": "bc884516-608a-4023-862c-40691d727821",
   "metadata": {},
   "source": [
    "Just read a signal and print the value."
   ]
  },
  {
   "cell_type": "code",
   "execution_count": null,
   "id": "88efec80-7398-4d04-aaa5-7cfe0fc56fd9",
   "metadata": {},
   "outputs": [],
   "source": [
    "async def _run():\n",
    "    async with BrokerClient(url=url) as c:\n",
    "        signal_batches = await c.subscribe((\"vcan0\", [\"MyFrame.MySignal\"]))\n",
    "        async for batch in signal_batches:\n",
    "            print(batch)\n",
    "\n",
    "\n",
    "task = asyncio.create_task(_run())"
   ]
  },
  {
   "cell_type": "code",
   "execution_count": null,
   "id": "e2e065a1",
   "metadata": {},
   "outputs": [],
   "source": [
    "task.cancel()"
   ]
  },
  {
   "cell_type": "markdown",
   "id": "4dfe0802-bc3e-4158-bac5-ffe0f5ef3907",
   "metadata": {},
   "source": [
    "* Send data using udptools or cansend!"
   ]
  },
  {
   "cell_type": "markdown",
   "id": "7f5db2ac-31d8-47e2-bb61-b3317a54e43d",
   "metadata": {},
   "source": [
    "### ECU 1, Simple ECU simulation"
   ]
  },
  {
   "cell_type": "markdown",
   "id": "c7d037ad-40b4-4692-88bb-90a0cd6fa0ac",
   "metadata": {},
   "source": [
    "Echos out a counter on the CAN bus. \"Rest bus\"."
   ]
  },
  {
   "cell_type": "code",
   "execution_count": null,
   "id": "5afe9288-457f-4318-8d4e-1b08d3cf5a9d",
   "metadata": {},
   "outputs": [],
   "source": [
    "class MyEcuBehaviour:\n",
    "    can_bus: CanNamespace\n",
    "\n",
    "    def __init__(self, can_bus: CanNamespace):\n",
    "        self.total_sum = 0\n",
    "        self.can_bus = can_bus\n",
    "\n",
    "    async def on_my_frame(self, frame: Frame):\n",
    "        self.total_sum += int(frame.signals[\"MyFrame.MySignal\"])\n",
    "        print(f\"Adding value {frame.signals['MyFrame.MySignal']}. Echoing out sum: {self.total_sum}.\")\n",
    "        await self.can_bus.restbus.update_signals(RestbusSignalConfig.set(name=\"MySum.MyCount\", value=self.total_sum))\n",
    "\n",
    "\n",
    "c = BrokerClient(url=url)\n",
    "can_bus = CanNamespace(\n",
    "    \"vcan0\",\n",
    "    c,\n",
    "    restbus_configs=[RestbusConfig([filters.FrameFilter(frame_name=\"MySum\")])],\n",
    ")\n",
    "my = MyEcuBehaviour(can_bus)\n",
    "\n",
    "stub = BehavioralModel(\n",
    "    \"ECU1\",\n",
    "    namespaces=[can_bus],\n",
    "    broker_client=c,\n",
    "    input_handlers=[can_bus.create_input_handler([filters.FrameFilter(\"MyFrame\")], my.on_my_frame)],\n",
    ")\n",
    "\n",
    "\n",
    "async def _run_stub(s: BehavioralModel):\n",
    "    async with c, s:\n",
    "        await s.run_forever()\n",
    "\n",
    "\n",
    "task = asyncio.create_task(_run_stub(stub))"
   ]
  },
  {
   "cell_type": "code",
   "execution_count": null,
   "id": "6282f0ef",
   "metadata": {},
   "outputs": [],
   "source": [
    "task.cancel()"
   ]
  },
  {
   "cell_type": "markdown",
   "id": "efbdfa34-57ee-4ea1-abb9-3797f9e40471",
   "metadata": {},
   "source": [
    "* Send data using udptools or cansend!"
   ]
  },
  {
   "cell_type": "markdown",
   "id": "6fa35bd1-5740-4737-956d-fc4452f38779",
   "metadata": {},
   "source": [
    "### ECU 2, Integration with GUI"
   ]
  },
  {
   "cell_type": "markdown",
   "id": "ed50d57c-a876-4f2b-b46d-27b871a97699",
   "metadata": {
    "jp-MarkdownHeadingCollapsed": true
   },
   "source": [
    "Example integration with _IPyWidgets_."
   ]
  },
  {
   "cell_type": "code",
   "execution_count": null,
   "id": "a152d891-a335-4b6c-81bb-5b17245d858b",
   "metadata": {},
   "outputs": [],
   "source": [
    "import ipywidgets as ipw\n",
    "\n",
    "%gui asyncio"
   ]
  },
  {
   "cell_type": "code",
   "execution_count": null,
   "id": "3584bb23-2227-4173-8fe4-33cf3f7f0d67",
   "metadata": {},
   "outputs": [],
   "source": [
    "ui_float1 = ipw.FloatProgress(min=0, max=20.0, description=\"Signal value\")\n",
    "ui_slider1 = ipw.IntSlider(min=0, max=512, description=\"Value to send\", style=dict(description_width=\"initial\"))\n",
    "ui_button1 = ipw.Button(description=\"Send a message\", button_style=\"info\")\n",
    "ipw.VBox(\n",
    "    [\n",
    "        ipw.HTML(value=\"<b>My ECU</b>\"),\n",
    "        ui_float1,\n",
    "        ui_slider1,\n",
    "        ui_button1,\n",
    "    ]\n",
    ")"
   ]
  },
  {
   "cell_type": "code",
   "execution_count": null,
   "id": "0a1695c1-a5f8-4c1e-af94-059e740cb876",
   "metadata": {},
   "outputs": [],
   "source": [
    "async def on_my_frame(frame: Frame):\n",
    "    ui_float1.value = frame.signals[\"MyFrame.MySignal\"]\n",
    "\n",
    "\n",
    "c = BrokerClient(url=url)\n",
    "can_bus = CanNamespace(\"vcan0\", c)\n",
    "\n",
    "\n",
    "async def on_button_click():\n",
    "    await can_bus.publish(WriteSignal(name=\"MySum.MyCount\", value=ui_slider1.value))\n",
    "\n",
    "\n",
    "stub = BehavioralModel(\n",
    "    \"ECU2\",\n",
    "    namespaces=[can_bus],\n",
    "    broker_client=c,\n",
    "    input_handlers=[can_bus.create_input_handler([filters.FrameFilter(\"MyFrame\")], on_my_frame)],\n",
    ")\n",
    "\n",
    "\n",
    "async def _run_stub(s: BehavioralModel):\n",
    "    async with c, s:\n",
    "        await s.run_forever()\n",
    "\n",
    "\n",
    "task = asyncio.create_task(_run_stub(stub))\n",
    "ui_button1.on_click(lambda _: asyncio.get_event_loop().create_task(on_button_click()))"
   ]
  },
  {
   "cell_type": "code",
   "execution_count": null,
   "id": "106f7730",
   "metadata": {},
   "outputs": [],
   "source": [
    "task.cancel()"
   ]
  },
  {
   "cell_type": "markdown",
   "id": "9f6ed756-c712-4649-917c-6e41baf53054",
   "metadata": {},
   "source": [
    "* Try click \"Send a message\" button. \n",
    "* Send data using udptools or cansend!"
   ]
  },
  {
   "cell_type": "markdown",
   "id": "9292d997-2b74-41dd-bf7e-4a184a761145",
   "metadata": {},
   "source": [
    "### ECU 3, Restbus GUI"
   ]
  },
  {
   "cell_type": "markdown",
   "id": "6b49293a-2a8f-4ad5-8e6f-8cfd15b84c68",
   "metadata": {},
   "source": [
    "Run a restbus and control the output with a GUI."
   ]
  },
  {
   "cell_type": "code",
   "execution_count": null,
   "id": "d1aa8984-8d17-4a97-8c17-a1213fee88f3",
   "metadata": {},
   "outputs": [],
   "source": [
    "import ipywidgets as ipw\n",
    "\n",
    "%gui asyncio"
   ]
  },
  {
   "cell_type": "code",
   "execution_count": null,
   "id": "a3d8eace-8009-4c51-89f1-64d5d27260f7",
   "metadata": {},
   "outputs": [],
   "source": [
    "c = BrokerClient(url=url)\n",
    "\n",
    "can_bus = CanNamespace(\"vcan0\", c, restbus_configs=[RestbusConfig([filters.FrameFilter(frame_name=\"MySum\")], delay_multiplier=0.1)])\n",
    "await can_bus.open()\n",
    "await can_bus.restbus.start()\n",
    "\n",
    "\n",
    "def ui_restbus_output(x: int):\n",
    "    async def _update():\n",
    "        await can_bus.restbus.update_signals(RestbusSignalConfig.set(name=\"MySum.MyCount\", value=x))  # Alt1. Update restbus output\n",
    "        # await can_bus.publish(WriteSignal(\"MySum.MyCount\", x)) # Alt2. Sent value once\n",
    "\n",
    "    asyncio.get_event_loop().create_task(_update())\n",
    "\n",
    "\n",
    "ipw.interact(ui_restbus_output, x=ipw.IntSlider(value=0xFF, min=0, max=0xFFFF))"
   ]
  },
  {
   "cell_type": "code",
   "execution_count": null,
   "id": "26e61b0e",
   "metadata": {},
   "outputs": [],
   "source": [
    "await can_bus.close()\n",
    "await c.disconnect()"
   ]
  },
  {
   "cell_type": "markdown",
   "id": "8b63a973-b938-438d-bcd9-f772c2920dbe",
   "metadata": {},
   "source": [
    "Drag the slider to update the value being sent out on the bus.\n",
    "\n",
    "See comment `Alt1` which covers updating the value sent on the restbus. See comment `Alt2` for how to do a direct publish instead of updating the periodic value sent out on the rest bus. Both `Alt1` and `Alt2` can be called in the same callback."
   ]
  },
  {
   "cell_type": "markdown",
   "id": "a119e896-a673-4d4d-ac85-d42f97ca7085",
   "metadata": {},
   "source": [
    "### ECU 4, two stage ECU"
   ]
  },
  {
   "cell_type": "markdown",
   "id": "ecf50320-8791-44ee-9906-14b99099b117",
   "metadata": {},
   "source": [
    "1. Boot. Until MyFrame is received\n",
    "2. Drive mode. Add frame to restbus"
   ]
  },
  {
   "cell_type": "code",
   "execution_count": null,
   "id": "55c0d007-7f8e-4050-99ae-c545a71180df",
   "metadata": {},
   "outputs": [],
   "source": [
    "phase_boot_completed = asyncio.Future()\n",
    "\n",
    "\n",
    "async def on_my_frame(_frame: Frame):\n",
    "    print(\"on_my_frame\")\n",
    "    phase_boot_completed.set_result(None)\n",
    "\n",
    "\n",
    "c = BrokerClient(url=url)\n",
    "can_bus = CanNamespace(\"vcan0\", c)\n",
    "\n",
    "stub = BehavioralModel(\n",
    "    \"ECU3\",\n",
    "    namespaces=[can_bus],\n",
    "    broker_client=c,\n",
    "    input_handlers=[can_bus.create_input_handler([filters.FrameFilter(\"MyFrame\")], on_my_frame)],\n",
    ")\n",
    "\n",
    "\n",
    "async def _run_stub(s: BehavioralModel):\n",
    "    async with c, s:\n",
    "        await phase_boot_completed\n",
    "        await can_bus.restbus.add(RestbusFrameConfig(name=\"MySum\", cycle_time=1000), start=True)\n",
    "        await s.run_forever()\n",
    "\n",
    "\n",
    "task = asyncio.create_task(_run_stub(stub))"
   ]
  },
  {
   "cell_type": "code",
   "execution_count": null,
   "id": "40f70a74-27ca-4ad0-b8bf-71ebb57c635a",
   "metadata": {},
   "outputs": [],
   "source": [
    "task.cancel()"
   ]
  },
  {
   "cell_type": "code",
   "execution_count": null,
   "id": "0f4af830-ffad-49c6-9ccb-953bd976bc66",
   "metadata": {},
   "outputs": [],
   "source": []
  }
 ],
 "metadata": {
  "kernelspec": {
   "display_name": "Python 3 (ipykernel)",
   "language": "python",
   "name": "python3"
  },
  "language_info": {
   "codemirror_mode": {
    "name": "ipython",
    "version": 3
   },
   "file_extension": ".py",
   "mimetype": "text/x-python",
   "name": "python",
   "nbconvert_exporter": "python",
   "pygments_lexer": "ipython3",
   "version": "3.13.3"
  }
 },
 "nbformat": 4,
 "nbformat_minor": 5
}
