{
 "cells": [
  {
   "cell_type": "markdown",
   "id": "562cdf95-5c7d-41c4-a297-ad26325a10e2",
   "metadata": {},
   "source": [
    "## Prerequisites"
   ]
  },
  {
   "cell_type": "code",
   "execution_count": null,
   "id": "ebf93ea9-68e8-47dc-aa3c-008c0db23fbe",
   "metadata": {},
   "outputs": [],
   "source": [
    "import os\n",
    "\n",
    "url = os.environ[\"REMOTIVE_BROKER_URL\"] if \"REMOTIVE_BROKER_URL\" in os.environ else \"http://remotive-broker:50051\""
   ]
  },
  {
   "cell_type": "markdown",
   "id": "1b66b1d0-ceb7-4bb7-b9b1-2cf37ff62854",
   "metadata": {},
   "source": [
    "## Configure broker"
   ]
  },
  {
   "cell_type": "markdown",
   "id": "f55dd34c-d450-4bc5-b015-579bb07626a2",
   "metadata": {},
   "source": [
    "Upload configuration using `vcan0` and a sample signal database."
   ]
  },
  {
   "cell_type": "code",
   "execution_count": null,
   "id": "535749f8-7d7d-45a3-9326-a87786ed344b",
   "metadata": {},
   "outputs": [],
   "source": [
    "from pathlib import Path\n",
    "\n",
    "from remotivelabs.broker.file_client import AsyncBrokerFileClient\n",
    "\n",
    "\n",
    "async def configure_demo():\n",
    "    print(\"Connecting and configuring broker...\")\n",
    "    async with AsyncBrokerFileClient(url=url) as client:\n",
    "        await client.load_configuration(Path(\"configuration_vcan/\"))\n",
    "    print(\"Configuration applied\")"
   ]
  },
  {
   "cell_type": "code",
   "execution_count": null,
   "id": "b8eebc34-8ec3-4422-bb7e-922a3e52b193",
   "metadata": {},
   "outputs": [],
   "source": [
    "await configure_demo()"
   ]
  }
 ],
 "metadata": {
  "kernelspec": {
   "display_name": "Python 3 (ipykernel)",
   "language": "python",
   "name": "python3"
  },
  "language_info": {
   "codemirror_mode": {
    "name": "ipython",
    "version": 3
   },
   "file_extension": ".py",
   "mimetype": "text/x-python",
   "name": "python",
   "nbconvert_exporter": "python",
   "pygments_lexer": "ipython3",
   "version": "3.9.2"
  }
 },
 "nbformat": 4,
 "nbformat_minor": 5
}
